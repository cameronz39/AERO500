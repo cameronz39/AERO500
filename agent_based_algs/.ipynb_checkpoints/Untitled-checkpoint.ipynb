{
 "cells": [
  {
   "cell_type": "code",
   "execution_count": 1,
   "id": "11e2d071-bf98-427b-98b4-65872a4a4070",
   "metadata": {},
   "outputs": [
    {
     "data": {
      "text/html": [
       "<div id=\"glowscript\" class=\"glowscript\"></div>"
      ],
      "text/plain": [
       "<IPython.core.display.HTML object>"
      ]
     },
     "metadata": {},
     "output_type": "display_data"
    },
    {
     "data": {
      "application/javascript": [
       "if (typeof Jupyter !== \"undefined\") { window.__context = { glowscript_container: $(\"#glowscript\").removeAttr(\"id\")};}else{ element.textContent = ' ';}"
      ],
      "text/plain": [
       "<IPython.core.display.Javascript object>"
      ]
     },
     "metadata": {},
     "output_type": "display_data"
    }
   ],
   "source": [
    "import numpy as np\n",
    "import random\n",
    "import matplotlib.pyplot as plt\n",
    "from vpython import sphere, vector, rate, color, arrow, canvas\n",
    "\n",
    "class Bird():\n",
    "    id = 0\n",
    "    def __init__(self,a,lim_x,lim_y):\n",
    "        self.id = Bird.id\n",
    "        Bird.id += 1\n",
    "        self.a = a # half of a birds wingspan\n",
    "        self.x = np.array([random.uniform(-lim_x,lim_x),random.uniform(-lim_y,lim_y)])\n",
    "\n",
    "        self.leader = None\n",
    "        self.flock_side = None\n",
    "        \n",
    "class Flock():\n",
    "    def __init__(self,size,a,lim_x,lim_y,gamma,FLOCK_Y_SPACING):\n",
    "        self.birds = []\n",
    "        self.a = a\n",
    "        self.gamma = gamma\n",
    "        self.x_correction = 0.1\n",
    "        self.y_correction = 0.1\n",
    "        self.FLOCK_Y_SPACING = FLOCK_Y_SPACING\n",
    "        \n",
    "        for i in range(size):\n",
    "            self.birds.append(Bird(a,lim_x,lim_y))\n",
    "\n",
    "    def d_nom(self):\n",
    "        return np.sqrt(1.12**2 + 4 * self.a**2)      \n",
    "    \n",
    "    def com(self):\n",
    "        return np.mean([bird.x[0] for bird in self.birds])\n",
    "\n",
    "    def plot(self, with_leaders=False):\n",
    "        plt.figure(figsize=(6, 6))\n",
    "        for bird in self.birds:\n",
    "            plt.scatter(*bird.x, color='tab:blue')\n",
    "            plt.text(*bird.x, f\"{bird.id}\", fontsize=9,\n",
    "                     ha='center', va='center', color='white')\n",
    "            if with_leaders and bird.leader is not None:\n",
    "                tail = bird.x\n",
    "                head = bird.leader.x\n",
    "                plt.plot([tail[0], head[0]], [tail[1], head[1]],\n",
    "                         'k--', linewidth=0.8)\n",
    "\n",
    "        plt.gca().set_aspect('equal')\n",
    "        plt.title(\"Initial flock with leader-follower links\" if with_leaders else \"Initial flock\")\n",
    "        plt.grid(True)\n",
    "        plt.show()\n",
    "    \n",
    "    def assign_leaders(self):\n",
    "        positions = np.array([bird.x for bird in self.birds])  \n",
    "        y_coords   = positions[:, 1]\n",
    "\n",
    "        # which birds are on the left/right of the flock\n",
    "        x_sign    = np.sign(positions[:, 0] - self.com())  \n",
    "        \n",
    "        for i, bird in enumerate(self.birds):\n",
    "            mask_front = y_coords > bird.x[1] \n",
    "            mask_side  = x_sign == x_sign[i]\n",
    "\n",
    "            # only birds in front and on the same side of the flock are valid leaders\n",
    "            valid_birds = np.where(mask_front & mask_side)[0]\n",
    "\n",
    "\n",
    "            if valid_birds.size == 0:\n",
    "                # if none are found, allow birds on same side\n",
    "                valid_birds = np.where(mask_front)[0]\n",
    "\n",
    "\n",
    "            if valid_birds.size == 0:        \n",
    "                # if still none are found, then this bird is the principle leader       \n",
    "                bird.leader = None                   \n",
    "                continue\n",
    "\n",
    "            deltas     = positions[valid_birds] - bird.x\n",
    "            distances  = np.linalg.norm(deltas, axis=1)\n",
    "\n",
    "            # pick nearest valid leader\n",
    "            j = valid_birds[np.argmin(distances)]\n",
    "            bird.leader = self.birds[j]\n",
    "\n",
    "    def far_field_correction(self,bird):\n",
    "        # applies the B and F matricies to each bird\n",
    "        if bird.leader is None:\n",
    "            return np.zeros(2)\n",
    "    \n",
    "        dx, dy = bird.leader.x - bird.x\n",
    "\n",
    "        # don't overshoot the leader\n",
    "        if dy <= 0:\n",
    "            return np.array([0,-self.y_correction])\n",
    "        \n",
    "        # stay to the correct left/right side of the flock\n",
    "        if abs(dx) < bird.a:    \n",
    "            direction = 1.0 if bird.x[0] > self.com() else -1.0\n",
    "            return np.array([direction * self.x_correction,0])\n",
    "        \n",
    "        return np.zeros(2)\n",
    "        \n",
    "    def step(self):\n",
    "        self.assign_leaders()\n",
    "\n",
    "        for bird in self.birds:\n",
    "            if bird.leader is None:\n",
    "                continue\n",
    "            r = bird.leader.x - bird.x\n",
    "            \n",
    "            if np.linalg.norm(r) > self.d_nom(): # far-field update\n",
    "                bird.x += self.gamma * r \n",
    "                bird.x += self.far_field_correction(bird)\n",
    "                continue\n",
    "            else: # near-field update\n",
    "                if bird.flock_side is None:\n",
    "                    # bird.flock_side = np.sign(bird.x[0] - bird.leader.x[0]) or 1.0\n",
    "                    bird.flock_side = np.sign(bird.x[0] - self.com()) or 1.0\n",
    "                r_des = np.array([bird.flock_side*2*self.a,-self.FLOCK_Y_SPACING])\n",
    "                S = r_des - r\n",
    "                bird.x += self.gamma * S\n",
    "\n",
    "                \n",
    "a = 0.5\n",
    "numBirds = 20\n",
    "gamma = 0.03\n",
    "lim_x = 10\n",
    "lim_y = 10\n",
    "steps  = 500\n",
    "FLOCK_Y_SPACING = 1.12\n",
    "flock = Flock(numBirds,a,lim_x,lim_y,gamma,FLOCK_Y_SPACING)\n",
    "            "
   ]
  },
  {
   "cell_type": "code",
   "execution_count": null,
   "id": "9d854dcc-4937-457a-a8aa-3443fd47b59f",
   "metadata": {},
   "outputs": [
    {
     "data": {
      "text/html": [
       "<div id=\"glowscript\" class=\"glowscript\"></div>"
      ],
      "text/plain": [
       "<IPython.core.display.HTML object>"
      ]
     },
     "metadata": {},
     "output_type": "display_data"
    },
    {
     "data": {
      "application/javascript": [
       "if (typeof Jupyter !== \"undefined\") { window.__context = { glowscript_container: $(\"#glowscript\").removeAttr(\"id\")};}else{ element.textContent = ' ';}"
      ],
      "text/plain": [
       "<IPython.core.display.Javascript object>"
      ]
     },
     "metadata": {},
     "output_type": "display_data"
    }
   ],
   "source": [
    "scene = canvas(title='Bird-flying V-formation', width=900, height=600, background=color.white, center=vector(0, -2, 0), forward=vector(0, 0, -1))\n",
    "\n",
    "# visual for every bird\n",
    "for bird in flock.birds:\n",
    "    # represent each bird as sphere\n",
    "    bird.body   = sphere(pos=vector(bird.x[0], bird.x[1], 0), radius=0.15, color=color.blue if bird.id else color.red) \n",
    "    # add a vector to indicated velocity\n",
    "    bird.vector = arrow(pos=bird.body.pos, axis=vector(0, 0.3, 0), shaftwidth=0.02, color=color.black, opacity=0.3)   \n",
    "\n",
    "steps         = 1500\n",
    "frames_per_sec = 30\n",
    "frames = []\n",
    "\n",
    "for k in range(steps):\n",
    "    rate(frames_per_sec)             # limits the loop to ~60 fps\n",
    "\n",
    "    # update the flock's state\n",
    "    flock.step()                 \n",
    "\n",
    "    # update bird visualization\n",
    "    for bird in flock.birds:\n",
    "        x, y = bird.x\n",
    "        new_pos = vector(x, y, 0)\n",
    "\n",
    "        bird.body.pos   = new_pos\n",
    "        bird.vector.pos = new_pos\n",
    "        bird.vector.axis = vector(0, 0.3, 0)  # could point to leader if you like\n",
    "        \n",
    "    cap = scene.capture()  \n",
    "    frames.append(np.array(cap))\n",
    "\n",
    "imageio.mimsave(\"flock.gif\", frames, fps=fps)\n",
    "    "
   ]
  },
  {
   "cell_type": "code",
   "execution_count": null,
   "id": "75de5c25-89eb-4ea7-995d-e9b683a31ecc",
   "metadata": {},
   "outputs": [],
   "source": []
  }
 ],
 "metadata": {
  "kernelspec": {
   "display_name": "Python 3 (ipykernel)",
   "language": "python",
   "name": "python3"
  },
  "language_info": {
   "codemirror_mode": {
    "name": "ipython",
    "version": 3
   },
   "file_extension": ".py",
   "mimetype": "text/x-python",
   "name": "python",
   "nbconvert_exporter": "python",
   "pygments_lexer": "ipython3",
   "version": "3.12.3"
  }
 },
 "nbformat": 4,
 "nbformat_minor": 5
}
