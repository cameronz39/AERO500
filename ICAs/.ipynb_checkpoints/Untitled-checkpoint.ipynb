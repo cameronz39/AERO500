{
 "cells": [
  {
   "cell_type": "code",
   "execution_count": null,
   "id": "2fe873bd-1e81-49a8-b7c6-f5e383ea4024",
   "metadata": {},
   "outputs": [],
   "source": []
  }
 ],
 "metadata": {
  "kernelspec": {
   "display_name": "",
   "name": ""
  },
  "language_info": {
   "name": ""
  }
 },
 "nbformat": 4,
 "nbformat_minor": 5
}
