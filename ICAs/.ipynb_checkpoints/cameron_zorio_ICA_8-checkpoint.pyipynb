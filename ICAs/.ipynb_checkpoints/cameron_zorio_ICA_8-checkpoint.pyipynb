{
 "cells": [
  {
   "cell_type": "code",
   "execution_count": 1,
   "id": "2fe873bd-1e81-49a8-b7c6-f5e383ea4024",
   "metadata": {},
   "outputs": [
    {
     "data": {
      "text/html": [
       "<div id=\"glowscript\" class=\"glowscript\"></div>"
      ],
      "text/plain": [
       "<IPython.core.display.HTML object>"
      ]
     },
     "metadata": {},
     "output_type": "display_data"
    },
    {
     "data": {
      "application/javascript": [
       "if (typeof Jupyter !== \"undefined\") { window.__context = { glowscript_container: $(\"#glowscript\").removeAttr(\"id\")};}else{ element.textContent = ' ';}"
      ],
      "text/plain": [
       "<IPython.core.display.Javascript object>"
      ]
     },
     "metadata": {},
     "output_type": "display_data"
    },
    {
     "ename": "KeyboardInterrupt",
     "evalue": "",
     "output_type": "error",
     "traceback": [
      "\u001b[31m---------------------------------------------------------------------------\u001b[39m",
      "\u001b[31mKeyboardInterrupt\u001b[39m                         Traceback (most recent call last)",
      "\u001b[36mCell\u001b[39m\u001b[36m \u001b[39m\u001b[32mIn[1]\u001b[39m\u001b[32m, line 11\u001b[39m\n\u001b[32m      8\u001b[39m dt = \u001b[32m0.01\u001b[39m\n\u001b[32m     10\u001b[39m \u001b[38;5;28;01mwhile\u001b[39;00m(\u001b[32m1\u001b[39m):\n\u001b[32m---> \u001b[39m\u001b[32m11\u001b[39m     \u001b[43mrate\u001b[49m\u001b[43m(\u001b[49m\u001b[32;43m100\u001b[39;49m\u001b[43m)\u001b[49m\n\u001b[32m     12\u001b[39m     ball.pos = ball.pos + ball.velocity*dt\n\u001b[32m     13\u001b[39m     \u001b[38;5;28;01mif\u001b[39;00m ball.pos.y < ball.radius:\n",
      "\u001b[36mFile \u001b[39m\u001b[32m~/Calpoly_WS/AERO500/.venv/lib/python3.12/site-packages/vpython/rate_control.py:266\u001b[39m, in \u001b[36m_RateKeeper2.__call__\u001b[39m\u001b[34m(self, N)\u001b[39m\n\u001b[32m    264\u001b[39m \u001b[38;5;28mself\u001b[39m.rval = N\n\u001b[32m    265\u001b[39m \u001b[38;5;28;01mif\u001b[39;00m \u001b[38;5;28mself\u001b[39m.rval < \u001b[32m1\u001b[39m: \u001b[38;5;28;01mraise\u001b[39;00m \u001b[38;5;167;01mValueError\u001b[39;00m(\u001b[33m\"\u001b[39m\u001b[33mrate value must be greater than or equal to 1\u001b[39m\u001b[33m\"\u001b[39m)\n\u001b[32m--> \u001b[39m\u001b[32m266\u001b[39m \u001b[38;5;28;43msuper\u001b[39;49m\u001b[43m(\u001b[49m\u001b[43m_RateKeeper2\u001b[49m\u001b[43m,\u001b[49m\u001b[43m \u001b[49m\u001b[38;5;28;43mself\u001b[39;49m\u001b[43m)\u001b[49m\u001b[43m.\u001b[49m\u001b[34;43m__call__\u001b[39;49m\u001b[43m(\u001b[49m\u001b[38;5;28;43mself\u001b[39;49m\u001b[43m.\u001b[49m\u001b[43mrval\u001b[49m\u001b[43m)\u001b[49m\n",
      "\u001b[36mFile \u001b[39m\u001b[32m~/Calpoly_WS/AERO500/.venv/lib/python3.12/site-packages/vpython/rate_control.py:220\u001b[39m, in \u001b[36mRateKeeper.__call__\u001b[39m\u001b[34m(self, maxRate)\u001b[39m\n\u001b[32m    217\u001b[39m \u001b[38;5;66;03m# Determine how much time is left before the next predicted call to rate:\u001b[39;00m\n\u001b[32m    218\u001b[39m dt = \u001b[38;5;28mself\u001b[39m.lastSleep + \u001b[38;5;28mself\u001b[39m.calls*(\u001b[38;5;28mself\u001b[39m.userTime + \u001b[38;5;28mself\u001b[39m.callTime + \u001b[38;5;28mself\u001b[39m.delay) + \\\n\u001b[32m    219\u001b[39m      renders*\u001b[38;5;28mself\u001b[39m.renderTime + sleeps*\u001b[38;5;28mself\u001b[39m.interactionPeriod - _clock()\n\u001b[32m--> \u001b[39m\u001b[32m220\u001b[39m \u001b[43m_sleep\u001b[49m\u001b[43m(\u001b[49m\u001b[43mdt\u001b[49m\u001b[43m)\u001b[49m\n\u001b[32m    221\u001b[39m \u001b[38;5;28mself\u001b[39m.lastSleep = _clock()\n\u001b[32m    222\u001b[39m \u001b[38;5;28mself\u001b[39m.calls = \u001b[32m0\u001b[39m\n",
      "\u001b[36mFile \u001b[39m\u001b[32m~/Calpoly_WS/AERO500/.venv/lib/python3.12/site-packages/vpython/rate_control.py:62\u001b[39m, in \u001b[36m_sleep\u001b[39m\u001b[34m(dt)\u001b[39m\n\u001b[32m     60\u001b[39m dtsleep = nticks*_tick\n\u001b[32m     61\u001b[39m t = _clock()\n\u001b[32m---> \u001b[39m\u001b[32m62\u001b[39m \u001b[43mtime\u001b[49m\u001b[43m.\u001b[49m\u001b[43msleep\u001b[49m\u001b[43m(\u001b[49m\u001b[43mdtsleep\u001b[49m\u001b[43m)\u001b[49m\n\u001b[32m     63\u001b[39m t = _clock()-t\n\u001b[32m     64\u001b[39m dt -= t\n",
      "\u001b[31mKeyboardInterrupt\u001b[39m: "
     ]
    }
   ],
   "source": [
    "from vpython import *\n",
    "\n",
    "floor = box(pos=vector(0,0,0), length = 4, height = 0.5, width = 4)\n",
    "floor.color = color.blue\n",
    "\n",
    "ball = sphere(pos=vector(0,4,0), radius = 1, color=color.red)\n",
    "ball.velocity = vector(0,1,0)\n",
    "dt = 0.01\n",
    "\n",
    "while(1):\n",
    "    rate(100)\n",
    "    ball.pos = ball.pos + ball.velocity*dt\n",
    "    if ball.pos.y < ball.radius:\n",
    "        ball.velocity.y = abs(ball.velocity.y)\n",
    "    else:\n",
    "        ball.velocity.y = ball.velocity.y - 9.8*dt"
   ]
  },
  {
   "cell_type": "code",
   "execution_count": null,
   "id": "80ffab53-7cc1-4742-855f-7e07214573f6",
   "metadata": {},
   "outputs": [],
   "source": []
  }
 ],
 "metadata": {
  "kernelspec": {
   "display_name": "Python 3 (ipykernel)",
   "language": "python",
   "name": "python3"
  },
  "language_info": {
   "codemirror_mode": {
    "name": "ipython",
    "version": 3
   },
   "file_extension": ".py",
   "mimetype": "text/x-python",
   "name": "python",
   "nbconvert_exporter": "python",
   "pygments_lexer": "ipython3",
   "version": "3.12.3"
  }
 },
 "nbformat": 4,
 "nbformat_minor": 5
}
