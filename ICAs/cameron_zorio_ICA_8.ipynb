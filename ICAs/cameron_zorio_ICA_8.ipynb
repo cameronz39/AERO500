{
 "cells": [
  {
   "cell_type": "code",
   "execution_count": null,
   "id": "2fe873bd-1e81-49a8-b7c6-f5e383ea4024",
   "metadata": {},
   "outputs": [
    {
     "data": {
      "text/html": [
       "<div id=\"glowscript\" class=\"glowscript\"></div>"
      ],
      "text/plain": [
       "<IPython.core.display.HTML object>"
      ]
     },
     "metadata": {},
     "output_type": "display_data"
    },
    {
     "data": {
      "application/javascript": "if (typeof Jupyter !== \"undefined\") { window.__context = { glowscript_container: $(\"#glowscript\").removeAttr(\"id\")};}else{ element.textContent = ' ';}",
      "text/plain": [
       "<IPython.core.display.Javascript object>"
      ]
     },
     "metadata": {},
     "output_type": "display_data"
    }
   ],
   "source": [
    "# jupyter notebook --no-browser --ip=0.0.0.0 --port=8888\n",
    "from vpython import *\n",
    "\n",
    "sun = sphere(pos=vector(0,0,0), radius = 0.1, color=color.yellow)\n",
    "\n",
    "earth = sphere(pos=vector(1,0,0), radius = 0.02, color=color.blue)\n",
    "earth.velocity = vector(0,0.1,0)\n",
    "\n",
    "moon = sphere(pos=earth.pos + vector(0.1, 0, 0), radius=0.005, color=color.white)\n",
    "moon.velocity = vector(0,0.03,0)\n",
    "\n",
    "dt = 0.01\n",
    "G = 0.01\n",
    "\n",
    "while(1):\n",
    "    rate(300)\n",
    "    earth.pos = earth.pos + earth.velocity*dt\n",
    "    r = sun.pos - earth.pos\n",
    "    r_hat = r/mag(r)\n",
    "    accel = G * r_hat/mag(r)**2\n",
    "    earth.velocity = earth.velocity + accel*dt\n",
    "\n",
    "\n",
    "    moon.pos = moon.pos + moon.velocity*dt\n",
    "    r = earth.pos = moon.pos\n",
    "    r_hat = r/mag(r)\n",
    "    accel = G * r_hat/mag(r)**2\n",
    "    moon.velocity = moon.velocity + accel*dt\n",
    "\n"
   ]
  },
  {
   "cell_type": "code",
   "execution_count": null,
   "id": "193ae3c9",
   "metadata": {},
   "outputs": [],
   "source": []
  },
  {
   "cell_type": "code",
   "execution_count": null,
   "id": "9a3db6ca-21ed-4a55-a6b0-3417920e3246",
   "metadata": {},
   "outputs": [],
   "source": []
  }
 ],
 "metadata": {
  "kernelspec": {
   "display_name": ".venv",
   "language": "python",
   "name": "python3"
  },
  "language_info": {
   "codemirror_mode": {
    "name": "ipython",
    "version": 3
   },
   "file_extension": ".py",
   "mimetype": "text/x-python",
   "name": "python",
   "nbconvert_exporter": "python",
   "pygments_lexer": "ipython3",
   "version": "3.12.3"
  }
 },
 "nbformat": 4,
 "nbformat_minor": 5
}
